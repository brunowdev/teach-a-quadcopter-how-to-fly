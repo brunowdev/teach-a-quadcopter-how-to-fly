{
 "cells": [
  {
   "cell_type": "markdown",
   "metadata": {},
   "source": [
    "# Project: Train a Quadcopter How to Fly\n",
    "\n",
    "Design an agent to fly a quadcopter, and then train it using a reinforcement learning algorithm of your choice! \n",
    "\n",
    "Try to apply the techniques you have learnt, but also feel free to come up with innovative ideas and test them."
   ]
  },
  {
   "cell_type": "markdown",
   "metadata": {},
   "source": [
    "## Instructions\n",
    "\n",
    "Take a look at the files in the directory to better understand the structure of the project. \n",
    "\n",
    "- `task.py`: Define your task (environment) in this file.\n",
    "- `agents/`: Folder containing reinforcement learning agents.\n",
    "    - `policy_search.py`: A sample agent has been provided here.\n",
    "    - `agent.py`: Develop your agent here.\n",
    "- `physics_sim.py`: This file contains the simulator for the quadcopter.  **DO NOT MODIFY THIS FILE**.\n",
    "\n",
    "For this project, you will define your own task in `task.py`.  Although we have provided a example task to get you started, you are encouraged to change it.  Later in this notebook, you will learn more about how to amend this file.\n",
    "\n",
    "You will also design a reinforcement learning agent in `agent.py` to complete your chosen task.  \n",
    "\n",
    "You are welcome to create any additional files to help you to organize your code.  For instance, you may find it useful to define a `model.py` file defining any needed neural network architectures.\n",
    "\n",
    "## Controlling the Quadcopter\n",
    "\n",
    "We provide a sample agent in the code cell below to show you how to use the sim to control the quadcopter.  This agent is even simpler than the sample agent that you'll examine (in `agents/policy_search.py`) later in this notebook!\n",
    "\n",
    "The agent controls the quadcopter by setting the revolutions per second on each of its four rotors.  The provided agent in the `Basic_Agent` class below always selects a random action for each of the four rotors.  These four speeds are returned by the `act` method as a list of four floating-point numbers.  \n",
    "\n",
    "For this project, the agent that you will implement in `agents/agent.py` will have a far more intelligent method for selecting actions!"
   ]
  },
  {
   "cell_type": "code",
   "execution_count": 1,
   "metadata": {
    "ExecuteTime": {
     "end_time": "2019-05-18T02:57:03.883013Z",
     "start_time": "2019-05-18T02:57:03.870421Z"
    }
   },
   "outputs": [],
   "source": [
    "import random\n",
    "\n",
    "class Basic_Agent():\n",
    "    def __init__(self, task):\n",
    "        self.task = task\n",
    "    \n",
    "    def act(self):\n",
    "        new_thrust = random.gauss(450., 25.)\n",
    "        return [new_thrust + random.gauss(0., 1.) for x in range(4)]"
   ]
  },
  {
   "cell_type": "markdown",
   "metadata": {},
   "source": [
    "Run the code cell below to have the agent select actions to control the quadcopter.  \n",
    "\n",
    "Feel free to change the provided values of `runtime`, `init_pose`, `init_velocities`, and `init_angle_velocities` below to change the starting conditions of the quadcopter.\n",
    "\n",
    "The `labels` list below annotates statistics that are saved while running the simulation.  All of this information is saved in a text file `data.txt` and stored in the dictionary `results`.  "
   ]
  },
  {
   "cell_type": "code",
   "execution_count": 2,
   "metadata": {
    "ExecuteTime": {
     "end_time": "2019-05-18T02:57:10.071652Z",
     "start_time": "2019-05-18T02:57:09.513807Z"
    }
   },
   "outputs": [
    {
     "name": "stdout",
     "output_type": "stream",
     "text": [
      "end>start\n",
      "end>target\n",
      "end>start\n",
      "end>target\n",
      "end>start\n",
      "end>target\n",
      "end>start\n",
      "end>target\n",
      "end>start\n",
      "end>target\n",
      "end>start\n",
      "end>target\n",
      "end>start\n",
      "end>target\n",
      "end>start\n",
      "end>target\n",
      "end>start\n",
      "end>target\n",
      "end>start\n",
      "end>target\n",
      "end>start\n",
      "end>target\n",
      "end>start\n",
      "end>target\n",
      "end>start\n",
      "end>target\n",
      "end>start\n",
      "end>target\n",
      "end>start\n",
      "end>target\n",
      "end>start\n",
      "end>target\n",
      "end>start\n",
      "end>target\n",
      "end>start\n",
      "end>target\n",
      "end>start\n",
      "end>target\n",
      "end>start\n",
      "end>target\n",
      "end>start\n",
      "end>target\n",
      "end>start\n",
      "end>target\n",
      "end>start\n",
      "end>target\n",
      "end>start\n",
      "end>target\n",
      "end>start\n",
      "end>target\n",
      "end>start\n",
      "end>target\n",
      "end>start\n",
      "end>target\n",
      "end>start\n",
      "end>target\n",
      "end>start\n",
      "end>target\n",
      "end>start\n",
      "end>target\n",
      "end>start\n",
      "end>target\n",
      "end>start\n",
      "end>target\n",
      "end>start\n",
      "end>target\n",
      "end>start\n",
      "end>target\n",
      "end>start\n",
      "end>target\n",
      "end>start\n",
      "end>target\n",
      "end>start\n",
      "end>target\n",
      "end>start\n",
      "end>target\n",
      "end>start\n",
      "end>target\n",
      "end>start\n",
      "end>target\n",
      "end>start\n",
      "end>target\n",
      "end>start\n",
      "end>target\n",
      "end>start\n",
      "end>target\n",
      "end>start\n",
      "end>target\n",
      "end>start\n",
      "end>target\n",
      "end>start\n",
      "end>target\n",
      "end>start\n",
      "end>target\n",
      "end>start\n",
      "end>target\n",
      "end>start\n",
      "end>target\n",
      "end>start\n",
      "end>target\n",
      "end>start\n",
      "end>target\n",
      "end>start\n",
      "end>target\n",
      "end>start\n",
      "end>target\n",
      "end>start\n",
      "end>target\n",
      "end>start\n",
      "end>target\n",
      "end>start\n",
      "end>target\n",
      "end>start\n",
      "end>target\n",
      "end>start\n",
      "end>target\n",
      "end>start\n",
      "end>target\n",
      "end>start\n",
      "end>target\n",
      "end>start\n",
      "end>target\n",
      "end>start\n",
      "end>target\n",
      "end>start\n",
      "end>target\n",
      "end>start\n",
      "end>target\n",
      "end>start\n",
      "end>target\n",
      "end>start\n",
      "end>target\n",
      "end>start\n",
      "end>target\n",
      "end>start\n",
      "end>target\n",
      "end>start\n",
      "end>target\n",
      "end>start\n",
      "end>target\n",
      "end>start\n",
      "end>target\n",
      "end>start\n",
      "end>target\n",
      "end>start\n",
      "end>target\n",
      "end>start\n",
      "end>target\n",
      "end>start\n",
      "end>target\n",
      "end>start\n",
      "end>target\n",
      "end>start\n",
      "end>target\n",
      "end>start\n",
      "end>target\n",
      "end>start\n",
      "end>target\n",
      "end>start\n",
      "end>target\n",
      "end>start\n",
      "end>target\n",
      "end>start\n",
      "end>target\n",
      "end>start\n",
      "end>target\n",
      "end>start\n",
      "end>target\n",
      "end>start\n",
      "end>target\n",
      "end>start\n",
      "end>target\n",
      "end>start\n",
      "end>target\n",
      "end>start\n",
      "end>target\n",
      "end>start\n",
      "end>target\n",
      "end>start\n",
      "end>target\n",
      "end>start\n",
      "end>target\n",
      "end>start\n",
      "end>target\n",
      "end>start\n",
      "end>target\n",
      "end>start\n",
      "end>target\n",
      "end>start\n",
      "end>target\n",
      "end>start\n",
      "end>target\n",
      "end>start\n",
      "end>target\n",
      "end>start\n",
      "end>target\n",
      "end>start\n",
      "end>target\n",
      "end>start\n",
      "end>target\n",
      "end>start\n",
      "end>target\n",
      "end>start\n",
      "end>target\n",
      "end>start\n",
      "end>target\n",
      "end>start\n",
      "end>target\n",
      "end>start\n",
      "end>target\n",
      "end>start\n",
      "end>target\n",
      "end>start\n",
      "end>target\n",
      "end>start\n",
      "end>target\n",
      "end>start\n",
      "end>target\n",
      "end>start\n",
      "end>target\n",
      "end>start\n",
      "end>target\n",
      "end>start\n",
      "end>target\n",
      "end>start\n",
      "end>target\n",
      "end>start\n",
      "end>target\n",
      "end>start\n",
      "end>target\n",
      "end>start\n",
      "end>target\n",
      "end>start\n",
      "end>target\n",
      "end>start\n",
      "end>target\n",
      "end>start\n",
      "end>target\n",
      "end>start\n",
      "end>target\n",
      "end>start\n",
      "end>target\n",
      "end>start\n",
      "end>target\n",
      "end>start\n",
      "end>target\n",
      "end>start\n",
      "end>target\n",
      "end>start\n",
      "end>target\n",
      "end>start\n",
      "end>target\n",
      "end>start\n",
      "end>target\n",
      "end>start\n",
      "end>target\n",
      "end>start\n",
      "end>target\n",
      "end>start\n",
      "end>target\n",
      "end>start\n",
      "end>target\n",
      "end>start\n",
      "end>target\n",
      "end>start\n",
      "end>target\n",
      "end>start\n",
      "end>target\n",
      "end>start\n",
      "end>target\n",
      "end>start\n",
      "end>target\n",
      "end>start\n",
      "end>target\n",
      "end>start\n",
      "end>target\n",
      "end>start\n",
      "end>target\n",
      "end>start\n",
      "end>target\n",
      "end>start\n",
      "end>target\n",
      "end>start\n",
      "end>target\n",
      "end>start\n",
      "end>target\n",
      "end>start\n",
      "end>target\n",
      "end>start\n",
      "end>target\n",
      "end>start\n",
      "end>target\n",
      "end>start\n",
      "end>target\n",
      "end>start\n",
      "end>target\n",
      "end>start\n",
      "end>target\n",
      "end>start\n",
      "end>target\n",
      "end>start\n",
      "end>target\n",
      "end>start\n",
      "end>target\n",
      "end>start\n",
      "end>target\n",
      "end>start\n",
      "end>target\n",
      "end>start\n",
      "end>target\n",
      "end>start\n",
      "end>target\n",
      "end>start\n",
      "end>target\n",
      "end>start\n",
      "end>target\n",
      "end>start\n",
      "end>target\n",
      "end>start\n",
      "end>target\n",
      "end>start\n",
      "end>target\n",
      "end>start\n",
      "end>target\n",
      "end>start\n",
      "end>target\n",
      "end>start\n",
      "end>target\n",
      "end>start\n",
      "end>target\n",
      "end>start\n",
      "end>target\n",
      "end>start\n",
      "end>target\n",
      "end>start\n",
      "end>target\n",
      "end>start\n",
      "end>target\n",
      "end>start\n",
      "end>target\n",
      "end>start\n",
      "end>target\n",
      "end>start\n",
      "end>target\n",
      "end>start\n",
      "end>target\n",
      "end>start\n",
      "end>target\n",
      "end>start\n",
      "end>target\n",
      "end>start\n",
      "end>target\n",
      "end>start\n",
      "end>target\n",
      "end>start\n",
      "end>target\n",
      "end>start\n",
      "end>target\n",
      "end>start\n",
      "end>target\n",
      "end>start\n",
      "end>target\n",
      "end>start\n",
      "end>target\n",
      "end>start\n",
      "end>target\n",
      "end>start\n",
      "end>target\n",
      "end>start\n",
      "end>target\n",
      "end>start\n",
      "end>target\n",
      "end>start\n",
      "end>target\n",
      "end>start\n",
      "end>target\n",
      "end>start\n",
      "end>target\n",
      "end>start\n",
      "end>target\n",
      "end>start\n",
      "end>target\n",
      "end>start\n",
      "end>target\n",
      "end>start\n",
      "end>target\n",
      "end>start\n",
      "end>target\n",
      "end>start\n",
      "end>target\n",
      "end>start\n",
      "end>target\n",
      "end>start\n",
      "end>target\n",
      "end>start\n",
      "end>target\n",
      "end>start\n",
      "end>target\n",
      "end>start\n",
      "end>target\n",
      "end>start\n",
      "end>target\n",
      "end>start\n",
      "end>target\n",
      "end>start\n",
      "end>target\n",
      "end>start\n",
      "end>target\n",
      "end>start\n",
      "end>target\n",
      "end>start\n",
      "end>target\n",
      "end>start\n",
      "end>target\n",
      "end>start\n",
      "end>target\n",
      "end>start\n",
      "end>target\n",
      "end>start\n",
      "end>target\n",
      "end>start\n",
      "end>target\n",
      "end>start\n",
      "end>target\n",
      "end>start\n",
      "end>target\n",
      "end>start\n",
      "end>target\n",
      "end>start\n",
      "end>target\n",
      "end>start\n",
      "end>target\n",
      "end>start\n",
      "end>target\n",
      "end>start\n",
      "end>target\n",
      "end>start\n",
      "end>target\n",
      "end>start\n",
      "end>target\n",
      "end>start\n",
      "end>target\n",
      "end>start\n",
      "end>target\n",
      "end>start\n",
      "end>target\n",
      "end>start\n",
      "end>target\n",
      "end>start\n",
      "end>target\n",
      "end>start\n",
      "end>target\n",
      "end>start\n",
      "end>target\n",
      "end>start\n",
      "end>target\n",
      "end>start\n",
      "end>target\n",
      "end>start\n",
      "end>target\n",
      "end>start\n",
      "end>target\n",
      "end>start\n",
      "end>target\n",
      "end>start\n",
      "end>target\n",
      "end>start\n",
      "end>target\n",
      "end>start\n",
      "end>target\n",
      "end>start\n",
      "end>target\n",
      "end>start\n",
      "end>target\n",
      "end>start\n",
      "end>target\n",
      "end>start\n",
      "end>target\n",
      "end>start\n",
      "end>target\n",
      "end>start\n",
      "end>target\n",
      "end>start\n",
      "end>target\n",
      "end>start\n",
      "end>target\n",
      "end>start\n",
      "end>target\n",
      "end>start\n",
      "end>target\n",
      "end>start\n",
      "end>target\n",
      "end>start\n",
      "end>target\n",
      "end>start\n",
      "end>target\n",
      "end>start\n",
      "end>target\n",
      "end>start\n",
      "end>target\n",
      "end>start\n",
      "end>target\n",
      "end>start\n",
      "end>target\n"
     ]
    }
   ],
   "source": [
    "%load_ext autoreload\n",
    "%autoreload 2\n",
    "\n",
    "import csv\n",
    "import numpy as np\n",
    "from task import Task\n",
    "\n",
    "# Modify the values below to give the quadcopter a different starting position.\n",
    "runtime = 5.                                     # time limit of the episode\n",
    "init_pose = np.array([0., 0., 10., 0., 0., 0.])  # initial pose\n",
    "init_velocities = np.array([0., 0., 0.])         # initial velocities\n",
    "init_angle_velocities = np.array([0., 0., 0.])   # initial angle velocities\n",
    "file_output = 'data.txt'                         # file name for saved results\n",
    "\n",
    "# Setup\n",
    "task = Task(init_pose, init_velocities, init_angle_velocities, runtime)\n",
    "agent = Basic_Agent(task)\n",
    "done = False\n",
    "labels = ['time', 'x', 'y', 'z', 'phi', 'theta', 'psi', 'x_velocity',\n",
    "          'y_velocity', 'z_velocity', 'phi_velocity', 'theta_velocity',\n",
    "          'psi_velocity', 'rotor_speed1', 'rotor_speed2', 'rotor_speed3', 'rotor_speed4']\n",
    "results = {x : [] for x in labels}\n",
    "\n",
    "# Run the simulation, and save the results.\n",
    "with open(file_output, 'w') as csvfile:\n",
    "    writer = csv.writer(csvfile)\n",
    "    writer.writerow(labels)\n",
    "    while True:\n",
    "        rotor_speeds = agent.act()\n",
    "        _, _, done = task.step(rotor_speeds)\n",
    "        to_write = [task.sim.time] + list(task.sim.pose) + list(task.sim.v) + list(task.sim.angular_v) + list(rotor_speeds)\n",
    "        for ii in range(len(labels)):\n",
    "            results[labels[ii]].append(to_write[ii])\n",
    "        writer.writerow(to_write)\n",
    "        if done:\n",
    "            break"
   ]
  },
  {
   "cell_type": "markdown",
   "metadata": {},
   "source": [
    "Run the code cell below to visualize how the position of the quadcopter evolved during the simulation."
   ]
  },
  {
   "cell_type": "code",
   "execution_count": 3,
   "metadata": {
    "ExecuteTime": {
     "end_time": "2019-05-18T02:57:20.020052Z",
     "start_time": "2019-05-18T02:57:19.458264Z"
    }
   },
   "outputs": [
    {
     "data": {
      "image/png": "[encoded data removed]",
      "text/plain": [
       "<Figure size 432x288 with 1 Axes>"
      ]
     },
     "metadata": {
      "needs_background": "light"
     },
     "output_type": "display_data"
    }
   ],
   "source": [
    "import matplotlib.pyplot as plt\n",
    "\n",
    "%matplotlib inline\n",
    "\n",
    "plt.plot(results['time'], results['x'], label='x')\n",
    "plt.plot(results['time'], results['y'], label='y')\n",
    "plt.plot(results['time'], results['z'], label='z')\n",
    "plt.legend()\n",
    "_ = plt.ylim()"
   ]
  },
  {
   "cell_type": "markdown",
   "metadata": {},
   "source": [
    "The next code cell visualizes the velocity of the quadcopter."
   ]
  },
  {
   "cell_type": "code",
   "execution_count": 4,
   "metadata": {
    "ExecuteTime": {
     "end_time": "2019-05-18T02:57:24.291798Z",
     "start_time": "2019-05-18T02:57:23.860460Z"
    }
   },
   "outputs": [
    {
     "data": {
      "image/png": "[encoded data removed]",
      "text/plain": [
       "<Figure size 432x288 with 1 Axes>"
      ]
     },
     "metadata": {
      "needs_background": "light"
     },
     "output_type": "display_data"
    }
   ],
   "source": [
    "plt.plot(results['time'], results['x_velocity'], label='x_hat')\n",
    "plt.plot(results['time'], results['y_velocity'], label='y_hat')\n",
    "plt.plot(results['time'], results['z_velocity'], label='z_hat')\n",
    "plt.legend()\n",
    "_ = plt.ylim()"
   ]
  },
  {
   "cell_type": "markdown",
   "metadata": {},
   "source": [
    "Next, you can plot the Euler angles (the rotation of the quadcopter over the $x$-, $y$-, and $z$-axes),"
   ]
  },
  {
   "cell_type": "code",
   "execution_count": 5,
   "metadata": {
    "ExecuteTime": {
     "end_time": "2019-05-18T02:57:29.483014Z",
     "start_time": "2019-05-18T02:57:29.054885Z"
    }
   },
   "outputs": [
    {
     "data": {
      "image/png": "[encoded data removed]",
      "text/plain": [
       "<Figure size 432x288 with 1 Axes>"
      ]
     },
     "metadata": {
      "needs_background": "light"
     },
     "output_type": "display_data"
    }
   ],
   "source": [
    "plt.plot(results['time'], results['phi'], label='phi')\n",
    "plt.plot(results['time'], results['theta'], label='theta')\n",
    "plt.plot(results['time'], results['psi'], label='psi')\n",
    "plt.legend()\n",
    "_ = plt.ylim()"
   ]
  },
  {
   "cell_type": "markdown",
   "metadata": {},
   "source": [
    "before plotting the velocities (in radians per second) corresponding to each of the Euler angles."
   ]
  },
  {
   "cell_type": "code",
   "execution_count": 6,
   "metadata": {
    "ExecuteTime": {
     "end_time": "2019-05-18T02:57:35.203350Z",
     "start_time": "2019-05-18T02:57:34.825658Z"
    }
   },
   "outputs": [
    {
     "data": {
      "image/png": "[encoded data removed]",
      "text/plain": [
       "<Figure size 432x288 with 1 Axes>"
      ]
     },
     "metadata": {
      "needs_background": "light"
     },
     "output_type": "display_data"
    }
   ],
   "source": [
    "plt.plot(results['time'], results['phi_velocity'], label='phi_velocity')\n",
    "plt.plot(results['time'], results['theta_velocity'], label='theta_velocity')\n",
    "plt.plot(results['time'], results['psi_velocity'], label='psi_velocity')\n",
    "plt.legend()\n",
    "_ = plt.ylim()"
   ]
  },
  {
   "cell_type": "markdown",
   "metadata": {},
   "source": [
    "Finally, you can use the code cell below to print the agent's choice of actions.  "
   ]
  },
  {
   "cell_type": "code",
   "execution_count": 7,
   "metadata": {
    "ExecuteTime": {
     "end_time": "2019-05-18T02:57:43.123800Z",
     "start_time": "2019-05-18T02:57:42.695162Z"
    }
   },
   "outputs": [
    {
     "data": {
      "image/png": "[encoded data removed]",
      "text/plain": [
       "<Figure size 432x288 with 1 Axes>"
      ]
     },
     "metadata": {
      "needs_background": "light"
     },
     "output_type": "display_data"
    }
   ],
   "source": [
    "plt.plot(results['time'], results['rotor_speed1'], label='Rotor 1 revolutions / second')\n",
    "plt.plot(results['time'], results['rotor_speed2'], label='Rotor 2 revolutions / second')\n",
    "plt.plot(results['time'], results['rotor_speed3'], label='Rotor 3 revolutions / second')\n",
    "plt.plot(results['time'], results['rotor_speed4'], label='Rotor 4 revolutions / second')\n",
    "plt.legend()\n",
    "_ = plt.ylim()"
   ]
  },
  {
   "cell_type": "markdown",
   "metadata": {},
   "source": [
    "When specifying a task, you will derive the environment state from the simulator.  Run the code cell below to print the values of the following variables at the end of the simulation:\n",
    "- `task.sim.pose` (the position of the quadcopter in ($x,y,z$) dimensions and the Euler angles),\n",
    "- `task.sim.v` (the velocity of the quadcopter in ($x,y,z$) dimensions), and\n",
    "- `task.sim.angular_v` (radians/second for each of the three Euler angles)."
   ]
  },
  {
   "cell_type": "code",
   "execution_count": 18,
   "metadata": {
    "ExecuteTime": {
     "end_time": "2019-05-18T01:13:25.095537Z",
     "start_time": "2019-05-18T01:13:25.057446Z"
    }
   },
   "outputs": [
    {
     "name": "stdout",
     "output_type": "stream",
     "text": [
      "[-3.42950191  6.29079965 36.87930745  3.61516604  3.56146329  0.        ]\n",
      "[-1.35725541  1.89279488  9.34785157]\n",
      "[28.83262402 28.85585428  0.        ]\n"
     ]
    }
   ],
   "source": [
    "# the pose, velocity, and angular velocity of the quadcopter at the end of the episode\n",
    "print(task.sim.pose)\n",
    "print(task.sim.v)\n",
    "print(task.sim.angular_v)"
   ]
  },
  {
   "cell_type": "markdown",
   "metadata": {},
   "source": [
    "In the sample task in `task.py`, we use the 6-dimensional pose of the quadcopter to construct the state of the environment at each timestep.  However, when amending the task for your purposes, you are welcome to expand the size of the state vector by including the velocity information.  You can use any combination of the pose, velocity, and angular velocity - feel free to tinker here, and construct the state to suit your task.\n",
    "\n",
    "## The Task\n",
    "\n",
    "A sample task has been provided for you in `task.py`.  Open this file in a new window now. \n",
    "\n",
    "The `__init__()` method is used to initialize several variables that are needed to specify the task.  \n",
    "- The simulator is initialized as an instance of the `PhysicsSim` class (from `physics_sim.py`).  \n",
    "- Inspired by the methodology in the original DDPG paper, we make use of action repeats.  For each timestep of the agent, we step the simulation `action_repeats` timesteps.  If you are not familiar with action repeats, please read the **Results** section in [the DDPG paper](https://arxiv.org/abs/1509.02971).\n",
    "- We set the number of elements in the state vector.  For the sample task, we only work with the 6-dimensional pose information.  To set the size of the state (`state_size`), we must take action repeats into account.  \n",
    "- The environment will always have a 4-dimensional action space, with one entry for each rotor (`action_size=4`). You can set the minimum (`action_low`) and maximum (`action_high`) values of each entry here.\n",
    "- The sample task in this provided file is for the agent to reach a target position.  We specify that target position as a variable.\n",
    "\n",
    "The `reset()` method resets the simulator.  The agent should call this method every time the episode ends.  You can see an example of this in the code cell below.\n",
    "\n",
    "The `step()` method is perhaps the most important.  It accepts the agent's choice of action `rotor_speeds`, which is used to prepare the next state to pass on to the agent.  Then, the reward is computed from `get_reward()`.  The episode is considered done if the time limit has been exceeded, or the quadcopter has travelled outside of the bounds of the simulation.\n",
    "\n",
    "In the next section, you will learn how to test the performance of an agent on this task."
   ]
  },
  {
   "cell_type": "markdown",
   "metadata": {},
   "source": [
    "## The Agent\n",
    "\n",
    "The sample agent given in `agents/policy_search.py` uses a very simplistic linear policy to directly compute the action vector as a dot product of the state vector and a matrix of weights. Then, it randomly perturbs the parameters by adding some Gaussian noise, to produce a different policy. Based on the average reward obtained in each episode (`score`), it keeps track of the best set of parameters found so far, how the score is changing, and accordingly tweaks a scaling factor to widen or tighten the noise.\n",
    "\n",
    "Run the code cell below to see how the agent performs on the sample task."
   ]
  },
  {
   "cell_type": "code",
   "execution_count": 9,
   "metadata": {
    "ExecuteTime": {
     "end_time": "2019-05-14T23:09:50.338939Z",
     "start_time": "2019-05-14T23:08:39.412005Z"
    }
   },
   "outputs": [
    {
     "name": "stdout",
     "output_type": "stream",
     "text": [
      "Episode = 1000, score = -736.842 (best = 3000.000), noise_scale = 3.2285"
     ]
    }
   ],
   "source": [
    "import sys\n",
    "import pandas as pd\n",
    "from agents.policy_search import PolicySearch_Agent\n",
    "from task import Task\n",
    "\n",
    "num_episodes = 1000\n",
    "# x, y, z\n",
    "target_pos = np.array([0., 0., 10.])\n",
    "task = Task(target_pos=target_pos)\n",
    "agent = PolicySearch_Agent(task) \n",
    "\n",
    "for i_episode in range(1, num_episodes+1):\n",
    "    state = agent.reset_episode() # start a new episode\n",
    "    while True:\n",
    "        action = agent.act(state) \n",
    "        next_state, reward, done = task.step(action)\n",
    "        agent.step(reward, done)\n",
    "        state = next_state\n",
    "        if done:\n",
    "            print(\"\\rEpisode = {:4d}, score = {:7.3f} (best = {:7.3f}), noise_scale = {}\".format(\n",
    "                i_episode, agent.score, agent.best_score, agent.noise_scale), end=\"\")  # [debug]\n",
    "            break\n",
    "    sys.stdout.flush()"
   ]
  },
  {
   "cell_type": "markdown",
   "metadata": {},
   "source": [
    "This agent should perform very poorly on this task.  And that's where you come in!"
   ]
  },
  {
   "cell_type": "markdown",
   "metadata": {},
   "source": [
    "## Define the Task, Design the Agent, and Train Your Agent!\n",
    "\n",
    "Amend `task.py` to specify a task of your choosing.  If you're unsure what kind of task to specify, you may like to teach your quadcopter to takeoff, hover in place, land softly, or reach a target pose.  \n",
    "\n",
    "After specifying your task, use the sample agent in `agents/policy_search.py` as a template to define your own agent in `agents/agent.py`.  You can borrow whatever you need from the sample agent, including ideas on how you might modularize your code (using helper methods like `act()`, `learn()`, `reset_episode()`, etc.).\n",
    "\n",
    "Note that it is **highly unlikely** that the first agent and task that you specify will learn well.  You will likely have to tweak various hyperparameters and the reward function for your task until you arrive at reasonably good behavior.\n",
    "\n",
    "As you develop your agent, it's important to keep an eye on how it's performing. Use the code above as inspiration to build in a mechanism to log/save the total rewards obtained in each episode to file.  If the episode rewards are gradually increasing, this is an indication that your agent is learning."
   ]
  },
  {
   "cell_type": "code",
   "execution_count": 25,
   "metadata": {
    "ExecuteTime": {
     "end_time": "2019-05-19T17:55:38.128693Z",
     "start_time": "2019-05-19T17:52:35.900228Z"
    }
   },
   "outputs": [
    {
     "name": "stdout",
     "output_type": "stream",
     "text": [
      "Episode =    1, Reward = 1.50, Sum = 49.96, Pose = 0.00\n",
      "Episode =    2, Reward = 1.50, Sum = 49.96, Pose = 0.00\n",
      "Episode =    3, Reward = 1.80, Sum = 50.25, Pose = 0.00\n",
      "Episode =    4, Reward = 1.20, Sum = 65.96, Pose = 0.00\n",
      "Episode =    5, Reward = 1.50, Sum = 61.24, Pose = 0.00\n",
      "Episode =    6, Reward = 1.20, Sum = 54.69, Pose = 0.00\n",
      "Episode =    7, Reward = 1.20, Sum = 60.11, Pose = 0.00\n",
      "Episode =    8, Reward = 1.20, Sum = 53.70, Pose = 0.00\n",
      "Episode =    9, Reward = 1.20, Sum = 53.70, Pose = 0.00\n",
      "Episode =   10, Reward = 1.50, Sum = 54.00, Pose = 0.00\n",
      "Episode =   11, Reward = 1.20, Sum = 53.70, Pose = 0.00\n",
      "Episode =   12, Reward = 1.20, Sum = 53.70, Pose = 0.00\n",
      "Episode =   13, Reward = 1.20, Sum = 53.70, Pose = 0.00\n",
      "Episode =   14, Reward = 1.50, Sum = 54.00, Pose = 0.00\n",
      "Episode =   15, Reward = 1.20, Sum = 53.70, Pose = 0.00\n",
      "Episode =   16, Reward = 1.20, Sum = 53.70, Pose = 0.00\n",
      "Episode =   17, Reward = 1.20, Sum = 66.30, Pose = 0.00\n",
      "Episode =   18, Reward = 2.10, Sum = 176.53, Pose = 5.46\n",
      "Episode =   19, Reward = 2.10, Sum = 176.53, Pose = 3.09\n",
      "Episode =   20, Reward = 2.10, Sum = 176.54, Pose = 0.03\n",
      "Episode =   21, Reward = 2.10, Sum = 176.53, Pose = 4.00\n",
      "Episode =   22, Reward = 1.20, Sum = 60.94, Pose = 0.00\n",
      "Episode =   23, Reward = 1.20, Sum = 60.96, Pose = 0.00\n",
      "Episode =   24, Reward = 1.20, Sum = 60.95, Pose = 0.00\n",
      "Episode =   25, Reward = 1.20, Sum = 60.97, Pose = 0.00\n",
      "Episode =   26, Reward = 1.20, Sum = 60.95, Pose = 0.00\n",
      "Episode =   27, Reward = 1.20, Sum = 60.95, Pose = 0.00\n",
      "Episode =   28, Reward = 1.20, Sum = 60.94, Pose = 0.00\n",
      "Episode =   29, Reward = 1.20, Sum = 60.95, Pose = 0.00\n",
      "Episode =   30, Reward = 1.20, Sum = 60.93, Pose = 0.00\n",
      "Episode =   31, Reward = 1.20, Sum = 60.94, Pose = 0.00\n",
      "Episode =   32, Reward = 1.20, Sum = 60.96, Pose = 0.00\n",
      "Episode =   33, Reward = 1.20, Sum = 60.94, Pose = 0.00\n",
      "Episode =   34, Reward = 1.20, Sum = 60.94, Pose = 0.00\n",
      "Episode =   35, Reward = 1.20, Sum = 60.96, Pose = 0.00\n",
      "Episode =   36, Reward = 1.20, Sum = 60.97, Pose = 0.00\n",
      "Episode =   37, Reward = 1.20, Sum = 60.95, Pose = 0.00\n",
      "Episode =   38, Reward = 1.20, Sum = 60.98, Pose = 0.00\n",
      "Episode =   39, Reward = 1.20, Sum = 60.94, Pose = 0.00\n",
      "Episode =   40, Reward = 1.20, Sum = 60.95, Pose = 0.00\n",
      "Episode =   41, Reward = 1.20, Sum = 60.93, Pose = 0.00\n",
      "Episode =   42, Reward = 1.20, Sum = 60.93, Pose = 0.00\n",
      "Episode =   43, Reward = 1.20, Sum = 60.97, Pose = 0.00\n",
      "Episode =   44, Reward = 1.20, Sum = 60.97, Pose = 0.00\n",
      "Episode =   45, Reward = 1.20, Sum = 60.96, Pose = 0.00\n",
      "Episode =   46, Reward = 1.20, Sum = 60.95, Pose = 0.00\n",
      "Episode =   47, Reward = 1.20, Sum = 60.93, Pose = 0.00\n",
      "Episode =   48, Reward = 1.20, Sum = 60.94, Pose = 0.00\n",
      "Episode =   49, Reward = 1.20, Sum = 60.92, Pose = 0.00\n",
      "Episode =   50, Reward = 1.20, Sum = 60.97, Pose = 0.00\n",
      "Episode =   51, Reward = 1.20, Sum = 60.94, Pose = 0.00\n",
      "Episode =   52, Reward = 1.20, Sum = 60.94, Pose = 0.00\n",
      "Episode =   53, Reward = 1.20, Sum = 60.94, Pose = 0.00\n",
      "Episode =   54, Reward = 1.20, Sum = 60.97, Pose = 0.00\n",
      "Episode =   55, Reward = 1.20, Sum = 60.93, Pose = 0.00\n",
      "Episode =   56, Reward = 1.20, Sum = 60.94, Pose = 0.00\n",
      "Episode =   57, Reward = 1.20, Sum = 60.95, Pose = 0.00\n",
      "Episode =   58, Reward = 1.20, Sum = 60.97, Pose = 0.00\n",
      "Episode =   59, Reward = 1.20, Sum = 60.93, Pose = 0.00\n",
      "Episode =   60, Reward = 1.20, Sum = 60.96, Pose = 0.00\n",
      "Episode =   61, Reward = 1.20, Sum = 60.96, Pose = 0.00\n",
      "Episode =   62, Reward = 1.20, Sum = 60.91, Pose = 0.00\n",
      "Episode =   63, Reward = 1.20, Sum = 60.95, Pose = 0.00\n",
      "Episode =   64, Reward = 1.20, Sum = 60.94, Pose = 0.00\n",
      "Episode =   65, Reward = 1.50, Sum = 78.04, Pose = 0.00\n",
      "Episode =   66, Reward = 1.50, Sum = 60.43, Pose = 0.00\n",
      "Episode =   67, Reward = 1.50, Sum = 54.12, Pose = 0.00\n",
      "Episode =   68, Reward = 1.20, Sum = 51.69, Pose = 0.00\n",
      "Episode =   69, Reward = 1.80, Sum = 50.22, Pose = 0.00\n",
      "Episode =   70, Reward = 1.20, Sum = 66.38, Pose = 0.00\n",
      "Episode =   71, Reward = 1.50, Sum = 49.81, Pose = 0.00\n",
      "Episode =   72, Reward = 1.50, Sum = 54.12, Pose = 0.00\n",
      "Episode =   73, Reward = 1.20, Sum = 47.80, Pose = 0.00\n",
      "Episode =   74, Reward = 1.80, Sum = 54.36, Pose = 0.00\n",
      "Episode =   75, Reward = 1.80, Sum = 41.78, Pose = 0.00\n",
      "Episode =   76, Reward = 1.50, Sum = 46.08, Pose = 0.00\n",
      "Episode =   77, Reward = 1.80, Sum = 52.21, Pose = 0.00\n",
      "Episode =   78, Reward = 1.50, Sum = 117.87, Pose = 0.00\n",
      "Episode =   79, Reward = 1.80, Sum = 50.72, Pose = 0.00\n",
      "Episode =   80, Reward = 1.80, Sum = 62.54, Pose = 0.00\n",
      "Episode =   81, Reward = 1.80, Sum = 56.61, Pose = 0.00\n",
      "Episode =   82, Reward = 1.50, Sum = 56.69, Pose = 0.00\n",
      "Episode =   83, Reward = 1.80, Sum = 59.46, Pose = 0.00\n",
      "Episode =   84, Reward = 1.20, Sum = 61.11, Pose = 0.00\n",
      "Episode =   85, Reward = 1.80, Sum = 59.42, Pose = 0.00\n",
      "Episode =   86, Reward = 1.20, Sum = 66.34, Pose = 0.00\n",
      "Episode =   87, Reward = 1.50, Sum = 63.46, Pose = 0.00\n",
      "Episode =   88, Reward = 1.20, Sum = 53.93, Pose = 0.00\n",
      "Episode =   89, Reward = 2.10, Sum = 176.51, Pose = 5.86\n",
      "Episode =   90, Reward = 1.20, Sum = 47.68, Pose = 0.00\n",
      "Episode =   91, Reward = 1.20, Sum = 58.17, Pose = 0.00\n",
      "Episode =   92, Reward = 1.20, Sum = 51.62, Pose = 0.00\n",
      "Episode =   93, Reward = 1.80, Sum = 52.21, Pose = 0.00\n",
      "Episode =   94, Reward = 1.20, Sum = 72.85, Pose = 0.00\n",
      "Episode =   95, Reward = 1.20, Sum = 60.11, Pose = 0.00\n",
      "Episode =   96, Reward = 1.20, Sum = 60.96, Pose = 0.00\n",
      "Episode =   97, Reward = 1.50, Sum = 63.32, Pose = 0.00\n",
      "Episode =   98, Reward = 3.00, Sum = 242.83, Pose = 37.05\n",
      "Episode =   99, Reward = 3.00, Sum = 242.93, Pose = 37.15\n",
      "Episode =  100, Reward = 3.00, Sum = 243.12, Pose = 36.82\n",
      "Episode =  101, Reward = 3.00, Sum = 242.92, Pose = 36.93\n",
      "Episode =  102, Reward = 3.00, Sum = 242.96, Pose = 36.46\n",
      "Episode =  103, Reward = 3.00, Sum = 242.92, Pose = 36.84\n",
      "Episode =  104, Reward = 3.00, Sum = 243.04, Pose = 37.25\n",
      "Episode =  105, Reward = 3.00, Sum = 243.13, Pose = 36.97\n",
      "Episode =  106, Reward = 3.00, Sum = 242.93, Pose = 36.69\n",
      "Episode =  107, Reward = 3.00, Sum = 242.83, Pose = 37.00\n",
      "Episode =  108, Reward = 3.00, Sum = 242.96, Pose = 36.37\n",
      "Episode =  109, Reward = 3.00, Sum = 242.97, Pose = 37.17\n",
      "Episode =  110, Reward = 3.00, Sum = 242.91, Pose = 37.03\n",
      "Episode =  111, Reward = 3.00, Sum = 242.89, Pose = 37.06\n",
      "Episode =  112, Reward = 3.00, Sum = 242.82, Pose = 36.31\n",
      "Episode =  113, Reward = 3.00, Sum = 242.86, Pose = 36.74\n",
      "Episode =  114, Reward = 3.00, Sum = 242.91, Pose = 36.82\n",
      "Episode =  115, Reward = 3.00, Sum = 242.85, Pose = 37.04\n",
      "Episode =  116, Reward = 3.00, Sum = 242.82, Pose = 36.99\n",
      "Episode =  117, Reward = 3.00, Sum = 243.08, Pose = 37.05\n",
      "Episode =  118, Reward = 3.00, Sum = 243.04, Pose = 37.24\n",
      "Episode =  119, Reward = 3.00, Sum = 242.75, Pose = 36.97\n",
      "Episode =  120, Reward = 3.00, Sum = 242.95, Pose = 37.11\n",
      "Episode =  121, Reward = 3.00, Sum = 242.84, Pose = 37.04\n",
      "Episode =  122, Reward = 3.00, Sum = 243.04, Pose = 37.01\n",
      "Episode =  123, Reward = 3.00, Sum = 243.13, Pose = 37.30\n",
      "Episode =  124, Reward = 3.00, Sum = 243.04, Pose = 37.20\n",
      "Episode =  125, Reward = 3.00, Sum = 242.98, Pose = 37.16\n",
      "Episode =  126, Reward = 3.00, Sum = 242.86, Pose = 36.98\n",
      "Episode =  127, Reward = 3.00, Sum = 243.06, Pose = 37.06\n",
      "Episode =  128, Reward = 3.00, Sum = 242.87, Pose = 36.71\n",
      "Episode =  129, Reward = 3.00, Sum = 242.97, Pose = 37.02\n",
      "Episode =  130, Reward = 3.00, Sum = 243.02, Pose = 37.19\n",
      "Episode =  131, Reward = 3.00, Sum = 242.98, Pose = 36.59\n",
      "Episode =  132, Reward = 3.00, Sum = 243.01, Pose = 37.09\n",
      "Episode =  133, Reward = 3.00, Sum = 242.71, Pose = 36.90\n",
      "Episode =  134, Reward = 3.00, Sum = 242.82, Pose = 37.02\n",
      "Episode =  135, Reward = 3.00, Sum = 243.02, Pose = 37.20\n",
      "Episode =  136, Reward = 3.00, Sum = 242.83, Pose = 36.44\n",
      "Episode =  137, Reward = 3.00, Sum = 242.85, Pose = 37.02\n",
      "Episode =  138, Reward = 3.00, Sum = 242.98, Pose = 37.09\n",
      "Episode =  139, Reward = 3.00, Sum = 242.83, Pose = 36.85\n",
      "Episode =  140, Reward = 3.00, Sum = 242.87, Pose = 37.04\n",
      "Episode =  141, Reward = 3.00, Sum = 243.02, Pose = 37.02\n",
      "Episode =  142, Reward = 3.00, Sum = 242.76, Pose = 36.70\n",
      "Episode =  143, Reward = 3.00, Sum = 242.93, Pose = 36.98\n",
      "Episode =  144, Reward = 3.00, Sum = 243.06, Pose = 37.21\n",
      "Episode =  145, Reward = 3.00, Sum = 243.07, Pose = 37.19\n"
     ]
    },
    {
     "name": "stdout",
     "output_type": "stream",
     "text": [
      "Episode =  146, Reward = 3.00, Sum = 243.01, Pose = 37.16\n",
      "Episode =  147, Reward = 3.00, Sum = 242.87, Pose = 37.05\n",
      "Episode =  148, Reward = 3.00, Sum = 242.72, Pose = 36.97\n",
      "Episode =  149, Reward = 3.00, Sum = 243.08, Pose = 37.24\n",
      "Episode =  150, Reward = 3.00, Sum = 242.94, Pose = 37.11\n",
      "Episode =  151, Reward = 3.00, Sum = 243.07, Pose = 36.25\n",
      "Episode =  152, Reward = 3.00, Sum = 242.95, Pose = 37.15\n",
      "Episode =  153, Reward = 3.00, Sum = 242.98, Pose = 37.18\n",
      "Episode =  154, Reward = 3.00, Sum = 242.77, Pose = 36.84\n",
      "Episode =  155, Reward = 3.00, Sum = 242.87, Pose = 37.11\n",
      "Episode =  156, Reward = 3.00, Sum = 242.90, Pose = 37.14\n",
      "Episode =  157, Reward = 3.00, Sum = 242.89, Pose = 37.08\n",
      "Episode =  158, Reward = 3.00, Sum = 243.07, Pose = 37.03\n",
      "Episode =  159, Reward = 3.00, Sum = 242.90, Pose = 36.74\n",
      "Episode =  160, Reward = 3.00, Sum = 242.92, Pose = 36.98\n",
      "Episode =  161, Reward = 3.00, Sum = 242.99, Pose = 36.78\n",
      "Episode =  162, Reward = 3.00, Sum = 242.91, Pose = 36.95\n",
      "Episode =  163, Reward = 3.00, Sum = 242.81, Pose = 36.97\n",
      "Episode =  164, Reward = 3.00, Sum = 242.94, Pose = 36.29\n",
      "Episode =  165, Reward = 3.00, Sum = 243.07, Pose = 37.20\n",
      "Episode =  166, Reward = 3.00, Sum = 242.92, Pose = 37.13\n",
      "Episode =  167, Reward = 3.00, Sum = 243.02, Pose = 37.08\n",
      "Episode =  168, Reward = 3.00, Sum = 242.82, Pose = 36.61\n",
      "Episode =  169, Reward = 3.00, Sum = 242.86, Pose = 37.05\n",
      "Episode =  170, Reward = 3.00, Sum = 243.05, Pose = 36.70\n",
      "Episode =  171, Reward = 3.00, Sum = 243.13, Pose = 37.38\n",
      "Episode =  172, Reward = 3.00, Sum = 242.81, Pose = 36.91\n",
      "Episode =  173, Reward = 3.00, Sum = 242.90, Pose = 37.07\n",
      "Episode =  174, Reward = 3.00, Sum = 243.00, Pose = 36.96\n",
      "Episode =  175, Reward = 3.00, Sum = 242.96, Pose = 36.98\n",
      "Episode =  176, Reward = 3.00, Sum = 242.68, Pose = 36.15\n",
      "Episode =  177, Reward = 3.00, Sum = 242.78, Pose = 36.45\n",
      "Episode =  178, Reward = 3.00, Sum = 242.92, Pose = 36.78\n",
      "Episode =  179, Reward = 3.00, Sum = 242.86, Pose = 37.09\n",
      "Episode =  180, Reward = 3.00, Sum = 242.84, Pose = 37.03\n",
      "Episode =  181, Reward = 3.00, Sum = 242.73, Pose = 36.87\n",
      "Episode =  182, Reward = 3.00, Sum = 243.04, Pose = 37.18\n",
      "Episode =  183, Reward = 3.00, Sum = 242.90, Pose = 37.08\n",
      "Episode =  184, Reward = 3.00, Sum = 242.98, Pose = 36.86\n",
      "Episode =  185, Reward = 3.00, Sum = 242.99, Pose = 37.14\n",
      "Episode =  186, Reward = 3.00, Sum = 242.82, Pose = 37.00\n",
      "Episode =  187, Reward = 3.00, Sum = 242.87, Pose = 37.05\n",
      "Episode =  188, Reward = 3.00, Sum = 242.92, Pose = 37.15\n",
      "Episode =  189, Reward = 3.00, Sum = 242.99, Pose = 37.16\n",
      "Episode =  190, Reward = 3.00, Sum = 243.02, Pose = 36.97\n",
      "Episode =  191, Reward = 3.00, Sum = 242.93, Pose = 36.98\n",
      "Episode =  192, Reward = 3.00, Sum = 243.01, Pose = 36.64\n",
      "Episode =  193, Reward = 3.00, Sum = 242.90, Pose = 37.06\n",
      "Episode =  194, Reward = 3.00, Sum = 242.84, Pose = 36.63\n",
      "Episode =  195, Reward = 3.00, Sum = 242.98, Pose = 37.07\n",
      "Episode =  196, Reward = 3.00, Sum = 242.63, Pose = 36.87\n",
      "Episode =  197, Reward = 3.00, Sum = 242.94, Pose = 37.13\n",
      "Episode =  198, Reward = 3.00, Sum = 242.80, Pose = 36.65\n",
      "Episode =  199, Reward = 3.00, Sum = 243.13, Pose = 37.30\n",
      "Episode =  200, Reward = 3.00, Sum = 243.02, Pose = 37.24\n"
     ]
    }
   ],
   "source": [
    "import sys\n",
    "import pandas as pd\n",
    "from agents.agent import DDPG\n",
    "from task import Task as t\n",
    "\n",
    "num_episodes = 200\n",
    "\n",
    "# x, y, z\n",
    "start_pos = np.array([0., 0., 10.])\n",
    "target_pos = np.array([0., 0., 20.])\n",
    "z_axis_index = 2\n",
    "\n",
    "task = t(target_pos=target_pos)\n",
    "agent = DDPG(task) \n",
    "\n",
    "rewards = []\n",
    "sum_rewards = []\n",
    "z_positions = []\n",
    "\n",
    "def flush():\n",
    "    sys.stdout.flush()\n",
    "    \n",
    "latest_results = []\n",
    "    \n",
    "for i_episode in range(1, num_episodes + 1):\n",
    "    state = agent.reset_episode()\n",
    "    sum_reward = .0\n",
    "    while True:\n",
    "        action = agent.act(state) \n",
    "        next_state, reward, done = task.step(action)\n",
    "        agent.step(action, reward, next_state, done)\n",
    "        state = next_state\n",
    "        z_positions.append(task.sim.pose[2])\n",
    "        sum_reward = sum_reward + reward\n",
    "        if done:\n",
    "            rewards.append(reward)\n",
    "            sum_rewards.append(sum_reward)\n",
    "            print(\"Episode = {:4d}, Reward = {:2.2f}, Sum = {:2.2f}, Pose = {:2.2f}\".format(i_episode, reward, sum_reward, z_positions[-1:][0]))\n",
    "            sys.stdout.flush()\n",
    "            break"
   ]
  },
  {
   "cell_type": "markdown",
   "metadata": {},
   "source": [
    "## Plot the Rewards\n",
    "\n",
    "Once you are satisfied with your performance, plot the episode rewards, either from a single run, or averaged over multiple runs. "
   ]
  },
  {
   "cell_type": "code",
   "execution_count": 9,
   "metadata": {
    "ExecuteTime": {
     "end_time": "2019-05-18T01:13:01.918468Z",
     "start_time": "2019-05-18T01:13:01.792625Z"
    }
   },
   "outputs": [],
   "source": [
    "%matplotlib inline"
   ]
  },
  {
   "cell_type": "code",
   "execution_count": 26,
   "metadata": {
    "ExecuteTime": {
     "end_time": "2019-05-19T17:56:43.829563Z",
     "start_time": "2019-05-19T17:56:43.659542Z"
    }
   },
   "outputs": [
    {
     "data": {
      "text/plain": [
       "[<matplotlib.lines.Line2D at 0x7f093b9962e8>]"
      ]
     },
     "execution_count": 26,
     "metadata": {},
     "output_type": "execute_result"
    },
    {
     "data": {
      "image/png": "[encoded data removed]",
      "text/plain": [
       "<Figure size 432x288 with 1 Axes>"
      ]
     },
     "metadata": {
      "needs_background": "light"
     },
     "output_type": "display_data"
    }
   ],
   "source": [
    "plt.plot(rewards)"
   ]
  },
  {
   "cell_type": "code",
   "execution_count": 27,
   "metadata": {
    "ExecuteTime": {
     "end_time": "2019-05-19T17:56:49.702937Z",
     "start_time": "2019-05-19T17:56:49.557005Z"
    }
   },
   "outputs": [
    {
     "data": {
      "text/plain": [
       "[<matplotlib.lines.Line2D at 0x7f0936974390>]"
      ]
     },
     "execution_count": 27,
     "metadata": {},
     "output_type": "execute_result"
    },
    {
     "data": {
      "image/png": "[encoded data removed]",
      "text/plain": [
       "<Figure size 432x288 with 1 Axes>"
      ]
     },
     "metadata": {
      "needs_background": "light"
     },
     "output_type": "display_data"
    }
   ],
   "source": [
    "plt.plot(sum_rewards)"
   ]
  },
  {
   "cell_type": "code",
   "execution_count": 28,
   "metadata": {
    "ExecuteTime": {
     "end_time": "2019-05-19T17:56:52.024844Z",
     "start_time": "2019-05-19T17:56:51.995558Z"
    }
   },
   "outputs": [
    {
     "name": "stdout",
     "output_type": "stream",
     "text": [
      "Mean Reward (last 10 episodes):    3.00\n",
      "Mean Reward (last 20 episodes):    3.00\n",
      "Mean Reward (last 50 episodes):    3.00\n",
      "Mean Reward (all episodes):    2.21\n",
      "Max Reward (all episodes):    3.00\n",
      "Min Reward (all episodes):    1.20\n"
     ]
    }
   ],
   "source": [
    "print(\"Mean Reward (last 10 episodes): {:7.2f}\".format(np.sum(rewards[-10:])/10))\n",
    "print(\"Mean Reward (last 20 episodes): {:7.2f}\".format(np.sum(rewards[-20:])/20))\n",
    "print(\"Mean Reward (last 50 episodes): {:7.2f}\".format(np.sum(rewards[-50:])/50))\n",
    "print(\"Mean Reward (all episodes): {:7.2f}\".format(np.sum(rewards)/len(rewards)))\n",
    "print(\"Max Reward (all episodes): {:7.2f}\".format(max(rewards)))\n",
    "print(\"Min Reward (all episodes): {:7.2f}\".format(min(rewards)))"
   ]
  },
  {
   "cell_type": "code",
   "execution_count": 33,
   "metadata": {
    "ExecuteTime": {
     "end_time": "2019-05-19T17:57:36.023670Z",
     "start_time": "2019-05-19T17:57:34.395533Z"
    }
   },
   "outputs": [],
   "source": [
    "test_agent = agent\n",
    "\n",
    "%matplotlib inline\n",
    "state = test_agent.reset_episode() \n",
    "\n",
    "sum_reward = .0\n",
    "\n",
    "z_positions = []\n",
    "x_positions = []\n",
    "y_positions = []\n",
    "\n",
    "r = 0\n",
    "ps = []\n",
    "while r < 20:\n",
    "    while True:\n",
    "        action = test_agent.act(state) \n",
    "        z_positions.append(task.sim.pose[2])\n",
    "        x_positions.append(task.sim.pose[0])\n",
    "        y_positions.append(task.sim.pose[1])\n",
    "        next_state, reward, done = task.step(action)\n",
    "        test_agent.step(action, reward, next_state, done)\n",
    "        state = next_state\n",
    "        \n",
    "        if done:\n",
    "            ps.append(task.sim.pose[2])\n",
    "            break\n",
    "    r += 1"
   ]
  },
  {
   "cell_type": "code",
   "execution_count": 31,
   "metadata": {
    "ExecuteTime": {
     "end_time": "2019-05-19T17:57:13.169642Z",
     "start_time": "2019-05-19T17:57:13.009724Z"
    }
   },
   "outputs": [
    {
     "data": {
      "image/png": "[encoded data removed]",
      "text/plain": [
       "<Figure size 432x288 with 1 Axes>"
      ]
     },
     "metadata": {
      "needs_background": "light"
     },
     "output_type": "display_data"
    }
   ],
   "source": [
    "plt.plot(z_positions, label='height while takeoff')\n",
    "plt.plot(x_positions, label='x')\n",
    "plt.plot(y_positions, label='y')\n",
    "plt.legend()\n",
    "_ = plt.ylim()"
   ]
  },
  {
   "cell_type": "markdown",
   "metadata": {},
   "source": [
    "## Reflections\n",
    "\n",
    "**Question 1**: Describe the task that you specified in `task.py`.  How did you design the reward function?\n",
    "\n",
    "**Answer**:\n",
    "\n",
    "    - I've choose the takeoff task. "
   ]
  },
  {
   "cell_type": "markdown",
   "metadata": {},
   "source": [
    "**Question 2**: Discuss your agent briefly, using the following questions as a guide:\n",
    "\n",
    "- What learning algorithm(s) did you try? What worked best for you?\n",
    "- What was your final choice of hyperparameters (such as $\\alpha$, $\\gamma$, $\\epsilon$, etc.)?\n",
    "- What neural network architecture did you use (if any)? Specify layers, sizes, activation functions, etc.\n",
    "\n",
    "**Answer**:"
   ]
  },
  {
   "cell_type": "markdown",
   "metadata": {},
   "source": [
    "**Question 3**: Using the episode rewards plot, discuss how the agent learned over time.\n",
    "\n",
    "- Was it an easy task to learn or hard?\n",
    "- Was there a gradual learning curve, or an aha moment?\n",
    "- How good was the final performance of the agent? (e.g. mean rewards over the last 10 episodes)\n",
    "\n",
    "**Answer**:"
   ]
  },
  {
   "cell_type": "markdown",
   "metadata": {},
   "source": [
    "**Question 4**: Briefly summarize your experience working on this project. You can use the following prompts for ideas.\n",
    "\n",
    "- What was the hardest part of the project? (e.g. getting started, plotting, specifying the task, etc.)\n",
    "- Did you find anything interesting in how the quadcopter or your agent behaved?\n",
    "\n",
    "**Answer**:"
   ]
  }
 ],
 "metadata": {
  "anaconda-cloud": {},
  "kernelspec": {
   "display_name": "Python 3",
   "language": "python",
   "name": "python3"
  },
  "language_info": {
   "codemirror_mode": {
    "name": "ipython",
    "version": 3
   },
   "file_extension": ".py",
   "mimetype": "text/x-python",
   "name": "python",
   "nbconvert_exporter": "python",
   "pygments_lexer": "ipython3",
   "version": "3.7.3"
  }
 },
 "nbformat": 4,
 "nbformat_minor": 2
}
